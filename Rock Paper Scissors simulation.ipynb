{
 "cells": [
  {
   "cell_type": "code",
   "execution_count": 58,
   "id": "be788205",
   "metadata": {},
   "outputs": [],
   "source": [
    "import random as rd\n",
    "import matplotlib.pyplot as plt\n",
    "import seaborn as sns\n",
    "\n",
    "win = 'CPU1 win!'\n",
    "lose = 'CPU2 win!'\n",
    "choices = ['rock', 'paper', 'scissors']\n",
    "\n",
    "def winner():\n",
    "    player = choices[rd.randint(0,2)]\n",
    "    cpu = choices[rd.randint(0,2)]\n",
    "    if player == 'rock' and cpu == 'scissors':\n",
    "        return win\n",
    "    elif player == 'scissors' and cpu == 'paper':\n",
    "        return win\n",
    "    elif player == 'paper' and cpu == 'rock':\n",
    "        return win\n",
    "    elif player == 'rock' and cpu == 'paper':\n",
    "        return lose\n",
    "    elif player == 'scissors' and cpu == 'rock':\n",
    "        return lose\n",
    "    elif player == 'paper' and cpu == 'scissors':\n",
    "        return lose\n",
    "    else:\n",
    "        pass\n",
    "\n",
    "def run_game(games):\n",
    "    score1 = 0\n",
    "    score2 = 0\n",
    "    score3 = 0\n",
    "    for i in range(games):\n",
    "        winn = winner()\n",
    "        if winn == win:\n",
    "            score1+=1\n",
    "        elif winn == lose:\n",
    "            score2+=1\n",
    "        else:\n",
    "            score3+=1\n",
    "    total= score1 + score2 + score3\n",
    "    p1 = round(100*(score1/total), 2)\n",
    "    p2 = round(100*(score2/total), 2)\n",
    "    p3 = round(100*(score3/total), 2)\n",
    "    print('Final score after {} games'.format(games))\n",
    "    print('CPU1: {} wins ({}%) CPU2: {} wins ({}%) Ties: {} ({}%)'.format(score1, p1, score2, p2, score3, p3))\n",
    "    cpu1 = ['cpu1' for i in range(score1)]\n",
    "    cpu2 = ['cpu2' for i in range(score2)]\n",
    "    ties = ['tie' for i in range(score3)]\n",
    "    scores = []\n",
    "    for i in cpu1:\n",
    "        scores.append(i)\n",
    "    for i in cpu2:\n",
    "        scores.append(i)\n",
    "    for i in ties:\n",
    "        scores.append(i)\n",
    "    score_labels = ['cpu1', 'cpu2', 'tie']\n",
    "    axes = sns.countplot(x=scores, order=score_labels)\n",
    "    plt.show()"
   ]
  },
  {
   "cell_type": "code",
   "execution_count": 59,
   "id": "d657d29b",
   "metadata": {},
   "outputs": [
    {
     "name": "stdout",
     "output_type": "stream",
     "text": [
      "Final score after 10 games\n",
      "CPU1: 1 wins (10.0%) CPU2: 2 wins (20.0%) Ties: 7 (70.0%)\n"
     ]
    },
    {
     "data": {
      "image/png": "[encoded data removed]",
      "text/plain": [
       "<Figure size 432x288 with 1 Axes>"
      ]
     },
     "metadata": {
      "needs_background": "light"
     },
     "output_type": "display_data"
    }
   ],
   "source": [
    "run_game(10)"
   ]
  },
  {
   "cell_type": "code",
   "execution_count": 60,
   "id": "1c0810d1",
   "metadata": {},
   "outputs": [
    {
     "name": "stdout",
     "output_type": "stream",
     "text": [
      "Final score after 100 games\n",
      "CPU1: 33 wins (33.0%) CPU2: 38 wins (38.0%) Ties: 29 (29.0%)\n"
     ]
    },
    {
     "data": {
      "image/png": "[encoded data removed]",
      "text/plain": [
       "<Figure size 432x288 with 1 Axes>"
      ]
     },
     "metadata": {
      "needs_background": "light"
     },
     "output_type": "display_data"
    }
   ],
   "source": [
    "run_game(100)"
   ]
  },
  {
   "cell_type": "code",
   "execution_count": 61,
   "id": "9e937d5c",
   "metadata": {},
   "outputs": [
    {
     "name": "stdout",
     "output_type": "stream",
     "text": [
      "Final score after 1000 games\n",
      "CPU1: 358 wins (35.8%) CPU2: 310 wins (31.0%) Ties: 332 (33.2%)\n"
     ]
    },
    {
     "data": {
      "image/png": "[encoded data removed]",
      "text/plain": [
       "<Figure size 432x288 with 1 Axes>"
      ]
     },
     "metadata": {
      "needs_background": "light"
     },
     "output_type": "display_data"
    }
   ],
   "source": [
    "run_game(1000)"
   ]
  },
  {
   "cell_type": "code",
   "execution_count": 62,
   "id": "136a7ab5",
   "metadata": {},
   "outputs": [
    {
     "name": "stdout",
     "output_type": "stream",
     "text": [
      "Final score after 10000 games\n",
      "CPU1: 3444 wins (34.44%) CPU2: 3284 wins (32.84%) Ties: 3272 (32.72%)\n"
     ]
    },
    {
     "data": {
      "image/png": "[encoded data removed]",
      "text/plain": [
       "<Figure size 432x288 with 1 Axes>"
      ]
     },
     "metadata": {
      "needs_background": "light"
     },
     "output_type": "display_data"
    }
   ],
   "source": [
    "run_game(10000)"
   ]
  },
  {
   "cell_type": "code",
   "execution_count": 63,
   "id": "37c9deef",
   "metadata": {},
   "outputs": [
    {
     "name": "stdout",
     "output_type": "stream",
     "text": [
      "Final score after 100000 games\n",
      "CPU1: 33244 wins (33.24%) CPU2: 33322 wins (33.32%) Ties: 33434 (33.43%)\n"
     ]
    },
    {
     "data": {
      "image/png": "[encoded data removed]",
      "text/plain": [
       "<Figure size 432x288 with 1 Axes>"
      ]
     },
     "metadata": {
      "needs_background": "light"
     },
     "output_type": "display_data"
    }
   ],
   "source": [
    "run_game(100000)"
   ]
  }
 ],
 "metadata": {
  "kernelspec": {
   "display_name": "Python 3 (ipykernel)",
   "language": "python",
   "name": "python3"
  },
  "language_info": {
   "codemirror_mode": {
    "name": "ipython",
    "version": 3
   },
   "file_extension": ".py",
   "mimetype": "text/x-python",
   "name": "python",
   "nbconvert_exporter": "python",
   "pygments_lexer": "ipython3",
   "version": "3.9.7"
  }
 },
 "nbformat": 4,
 "nbformat_minor": 5
}
